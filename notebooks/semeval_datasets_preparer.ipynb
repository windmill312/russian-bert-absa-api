{
  "nbformat": 4,
  "nbformat_minor": 0,
  "metadata": {
    "kernelspec": {
      "name": "python3",
      "display_name": "Python 3"
    },
    "language_info": {
      "codemirror_mode": {
        "name": "ipython",
        "version": 3
      },
      "file_extension": ".py",
      "mimetype": "text/x-python",
      "name": "python",
      "nbconvert_exporter": "python",
      "pygments_lexer": "ipython3",
      "version": "3.7.5"
    },
    "colab": {
      "name": "semeval_datasets_preparer.ipynb",
      "provenance": [],
      "collapsed_sections": []
    },
    "accelerator": "GPU"
  },
  "cells": [
    {
      "cell_type": "code",
      "metadata": {
        "id": "IPNoJCLLHlLg",
        "colab_type": "code",
        "colab": {}
      },
      "source": [
        "import xml.etree.cElementTree as ET\n",
        "import random\n",
        "import json\n",
        "import sys\n",
        "import torch.nn.functional as F"
      ],
      "execution_count": 0,
      "outputs": []
    },
    {
      "cell_type": "code",
      "metadata": {
        "id": "5DlZajkuHlLo",
        "colab_type": "code",
        "colab": {}
      },
      "source": [
        "train_target = ET.parse('train.xml')\n",
        "train_data = {'annotation':[]}\n",
        "\n",
        "test_target = ET.parse('test.xml')\n",
        "test_data = {'annotation':[]}"
      ],
      "execution_count": 0,
      "outputs": []
    },
    {
      "cell_type": "code",
      "metadata": {
        "id": "r8uIaXFqHlLq",
        "colab_type": "code",
        "colab": {}
      },
      "source": [
        "for obj in train_target.iter('Review'):\n",
        "    sent = obj.iter('sentence')\n",
        "    for se in sent:\n",
        "        text = se.find('text').text.strip()\n",
        "        cat = []\n",
        "        pol = []\n",
        "        for c in se.iter('Opinion'):\n",
        "            cat.append(c.attrib['category'])\n",
        "            pol.append(c.attrib['polarity'])\n",
        "        if cat!=[]:\n",
        "            train_data['annotation'].append({'text':text, 'category':cat, 'polarity': pol})\n",
        "\n",
        "for obj in test_target.iter('Review'):\n",
        "    sent = obj.iter('sentence')\n",
        "    for se in sent:\n",
        "        text = se.find('text').text.strip()\n",
        "        cat = []\n",
        "        pol = []\n",
        "        for c in se.iter('Opinion'):\n",
        "            cat.append(c.attrib['category'])\n",
        "            pol.append(c.attrib['polarity'])\n",
        "        if cat!=[]:\n",
        "            test_data['annotation'].append({'text':text, 'category':cat, 'polarity': pol})"
      ],
      "execution_count": 0,
      "outputs": []
    },
    {
      "cell_type": "code",
      "metadata": {
        "id": "HjwvQJemHlLt",
        "colab_type": "code",
        "outputId": "b109944a-8606-4bf1-9216-ee915aac8f2d",
        "colab": {
          "base_uri": "https://localhost:8080/",
          "height": 258
        }
      },
      "source": [
        "train_data['annotation'][2]"
      ],
      "execution_count": 18,
      "outputs": [
        {
          "output_type": "execute_result",
          "data": {
            "text/plain": [
              "{'category': ['FOOD#QUALITY',\n",
              "  'FOOD#PRICES',\n",
              "  'FOOD#QUALITY',\n",
              "  'FOOD#QUALITY',\n",
              "  'FOOD#STYLE_OPTIONS',\n",
              "  'FOOD#QUALITY'],\n",
              " 'polarity': ['positive',\n",
              "  'positive',\n",
              "  'positive',\n",
              "  'positive',\n",
              "  'positive',\n",
              "  'positive'],\n",
              " 'text': 'На наш не большой банкетик мы заказали пару приятных блюд, я заказала себе улитки очень вкусно было и совсем недорого примерно 300 рублей помоему, мой молодой человек заказал блюда из мяса на мангале, которых у них полно, ему не угодишь обычно, а тут понравилось его друзья тоже заказали по порции разного мяса на мангале тоже очень понравились!'}"
            ]
          },
          "metadata": {
            "tags": []
          },
          "execution_count": 18
        }
      ]
    },
    {
      "cell_type": "code",
      "metadata": {
        "id": "m909LsAuKNb_",
        "colab_type": "code",
        "outputId": "5cbf1fe0-8290-4d58-e995-51b22155bb06",
        "colab": {
          "base_uri": "https://localhost:8080/",
          "height": 68
        }
      },
      "source": [
        "test_data['annotation'][2]"
      ],
      "execution_count": 19,
      "outputs": [
        {
          "output_type": "execute_result",
          "data": {
            "text/plain": [
              "{'category': ['SERVICE#GENERAL'],\n",
              " 'polarity': ['positive'],\n",
              " 'text': 'Официантки вежливые и улыбчивые.'}"
            ]
          },
          "metadata": {
            "tags": []
          },
          "execution_count": 19
        }
      ]
    },
    {
      "cell_type": "code",
      "metadata": {
        "id": "9QYrpkc_HlLw",
        "colab_type": "code",
        "outputId": "e7040a76-7212-4983-a7e1-aa2d967f00a2",
        "colab": {
          "base_uri": "https://localhost:8080/",
          "height": 221
        }
      },
      "source": [
        "categories = []\n",
        "for anno in train_data['annotation']:\n",
        "    for cat in anno['category']:\n",
        "        categories.append(cat)\n",
        "\n",
        "for anno in test_data['annotation']:\n",
        "    for cat in anno['category']:\n",
        "        categories.append(cat)"
      ],
      "execution_count": 20,
      "outputs": [
        {
          "output_type": "execute_result",
          "data": {
            "text/plain": [
              "{'AMBIENCE#GENERAL',\n",
              " 'DRINKS#PRICES',\n",
              " 'DRINKS#QUALITY',\n",
              " 'DRINKS#STYLE_OPTIONS',\n",
              " 'FOOD#PRICES',\n",
              " 'FOOD#QUALITY',\n",
              " 'FOOD#STYLE_OPTIONS',\n",
              " 'LOCATION#GENERAL',\n",
              " 'RESTAURANT#GENERAL',\n",
              " 'RESTAURANT#MISCELLANEOUS',\n",
              " 'RESTAURANT#PRICES',\n",
              " 'SERVICE#GENERAL'}"
            ]
          },
          "metadata": {
            "tags": []
          },
          "execution_count": 20
        }
      ]
    },
    {
      "cell_type": "code",
      "metadata": {
        "id": "Pj1TaqGsHlL0",
        "colab_type": "code",
        "outputId": "9b5ef55a-92b7-42cb-ef8f-2c7582fe632c",
        "colab": {
          "base_uri": "https://localhost:8080/",
          "height": 34
        }
      },
      "source": [
        "train_data_len = [i for i in range(len(train_data['annotation']))]\n",
        "len(train_data['annotation'])"
      ],
      "execution_count": 21,
      "outputs": [
        {
          "output_type": "execute_result",
          "data": {
            "text/plain": [
              "3691"
            ]
          },
          "metadata": {
            "tags": []
          },
          "execution_count": 21
        }
      ]
    },
    {
      "cell_type": "code",
      "metadata": {
        "id": "leDFhIEqKfJk",
        "colab_type": "code",
        "outputId": "c432593b-d700-4ae8-ab95-734e1e4992d6",
        "colab": {
          "base_uri": "https://localhost:8080/",
          "height": 34
        }
      },
      "source": [
        "test_data_len = [i for i in range(len(test_data['annotation']))]\n",
        "len(test_data['annotation'])"
      ],
      "execution_count": 22,
      "outputs": [
        {
          "output_type": "execute_result",
          "data": {
            "text/plain": [
              "908"
            ]
          },
          "metadata": {
            "tags": []
          },
          "execution_count": 22
        }
      ]
    },
    {
      "cell_type": "code",
      "metadata": {
        "id": "Xr124cWQHlL_",
        "colab_type": "code",
        "outputId": "49257094-8f20-44d6-8e91-f53e1b9b0e19",
        "colab": {
          "base_uri": "https://localhost:8080/",
          "height": 34
        }
      },
      "source": [
        "categories = []\n",
        "for anno in train_data['annotation']:\n",
        "    for cat in anno['category']:\n",
        "        categories.append(cat)\n",
        "len(set(categories))"
      ],
      "execution_count": 23,
      "outputs": [
        {
          "output_type": "execute_result",
          "data": {
            "text/plain": [
              "12"
            ]
          },
          "metadata": {
            "tags": []
          },
          "execution_count": 23
        }
      ]
    },
    {
      "cell_type": "code",
      "metadata": {
        "id": "E4CyBdm5HlME",
        "colab_type": "code",
        "outputId": "1eef9b47-2fb1-41eb-ed9f-5640a48604e8",
        "colab": {
          "base_uri": "https://localhost:8080/",
          "height": 34
        }
      },
      "source": [
        "categories = []\n",
        "for anno in test_data['annotation']:\n",
        "    for cat in anno['category']:\n",
        "        categories.append(cat)\n",
        "len(set(categories))"
      ],
      "execution_count": 24,
      "outputs": [
        {
          "output_type": "execute_result",
          "data": {
            "text/plain": [
              "12"
            ]
          },
          "metadata": {
            "tags": []
          },
          "execution_count": 24
        }
      ]
    },
    {
      "cell_type": "code",
      "metadata": {
        "id": "ZOAdiW24HlMG",
        "colab_type": "code",
        "colab": {}
      },
      "source": [
        "with open(\"train.json\", \"w\") as fp:\n",
        "    json.dump(train_data, fp) \n",
        "with open(\"test.json\", \"w\") as fp:\n",
        "    json.dump(test_data, fp) "
      ],
      "execution_count": 0,
      "outputs": []
    }
  ]
}